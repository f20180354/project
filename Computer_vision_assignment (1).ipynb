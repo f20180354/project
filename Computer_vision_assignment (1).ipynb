{
  "nbformat": 4,
  "nbformat_minor": 0,
  "metadata": {
    "colab": {
      "name": "Computer vision assignment.ipynb",
      "provenance": [],
      "collapsed_sections": []
    },
    "kernelspec": {
      "name": "python3",
      "display_name": "Python 3"
    },
    "language_info": {
      "name": "python"
    },
    "accelerator": "GPU"
  },
  "cells": [
    {
      "cell_type": "markdown",
      "metadata": {
        "id": "NFfz1ffIvb7I"
      },
      "source": [
        "Importing libraries and models"
      ]
    },
    {
      "cell_type": "markdown",
      "metadata": {
        "id": "b44uAGN_9cw0"
      },
      "source": [
        ""
      ]
    },
    {
      "cell_type": "code",
      "metadata": {
        "colab": {
          "base_uri": "https://localhost:8080/"
        },
        "id": "dBX_C2mUUDvh",
        "outputId": "469a4686-e2f7-4aa8-fd2d-d421f533832c"
      },
      "source": [
        "from google.colab import drive\n",
        "drive.mount('/content/drive')"
      ],
      "execution_count": 78,
      "outputs": [
        {
          "output_type": "stream",
          "text": [
            "Drive already mounted at /content/drive; to attempt to forcibly remount, call drive.mount(\"/content/drive\", force_remount=True).\n"
          ],
          "name": "stdout"
        }
      ]
    },
    {
      "cell_type": "code",
      "metadata": {
        "colab": {
          "base_uri": "https://localhost:8080/"
        },
        "id": "dL4D9kiEU6dy",
        "outputId": "e891456f-0b63-4b27-ccc9-96a322d0070c"
      },
      "source": [
        "!ls\n",
        "%cd drive/'MyDrive'/SAiDL"
      ],
      "execution_count": 79,
      "outputs": [
        {
          "output_type": "stream",
          "text": [
            "'Computer vision assignment.ipynb'   ipykernel_launcher.py_plot.png\n",
            " data\t\t\t\t    'Reinforcement learning assignment.ipynb'\n",
            "[Errno 2] No such file or directory: 'drive/MyDrive/SAiDL'\n",
            "/content/drive/MyDrive/SAiDL\n"
          ],
          "name": "stdout"
        }
      ]
    },
    {
      "cell_type": "code",
      "metadata": {
        "id": "JAMf5uSzvbu5"
      },
      "source": [
        "# importing the libraries\n",
        "import pandas as pd\n",
        "import numpy as np\n",
        "\n",
        "# for reading and displaying images\n",
        "from skimage.io import imread\n",
        "import matplotlib.pyplot as plt\n",
        "%matplotlib inline\n",
        "\n",
        "# for creating validation set\n",
        "from sklearn.model_selection import train_test_split\n",
        "\n",
        "# for evaluating the model\n",
        "from sklearn.metrics import accuracy_score\n",
        "from tqdm import tqdm\n",
        "\n",
        "# PyTorch libraries and modules\n",
        "import torch\n",
        "from torch.autograd import Variable\n",
        "#from torch.nn import Linear, ReLU, CrossEntropyLoss, Sequential, Conv2d, MaxPool2d, Module, Softmax, BatchNorm2d, Dropout\n",
        "#from torch.optim import Adam, SGD\n",
        "\n",
        "# Keres libraries and modules\n",
        "import sys\n",
        "from matplotlib import pyplot\n",
        "from tensorflow.keras.models import Sequential\n",
        "from tensorflow.keras.layers import Conv2D\n",
        "from tensorflow.keras.layers import MaxPooling2D\n",
        "from tensorflow.keras.layers import Dense\n",
        "from tensorflow.keras.layers import Flatten\n",
        "from tensorflow.keras.optimizers import SGD\n",
        "from tensorflow.keras.utils import to_categorical\n",
        "\n",
        "# Metrics\n",
        "from sklearn.metrics import f1_score\n",
        "from sklearn.metrics import plot_confusion_matrix"
      ],
      "execution_count": 80,
      "outputs": []
    },
    {
      "cell_type": "markdown",
      "metadata": {
        "id": "M6GMXxOzkSlo"
      },
      "source": [
        "Importing STL 10 as training, test and unlabeled data"
      ]
    },
    {
      "cell_type": "code",
      "metadata": {
        "colab": {
          "base_uri": "https://localhost:8080/",
          "height": 318
        },
        "id": "_30rlpmtkO8m",
        "outputId": "1d287e3d-a690-4d62-a1fd-199d706da9fd"
      },
      "source": [
        "from __future__ import print_function\n",
        "\n",
        "import sys\n",
        "import os, sys, tarfile, errno\n",
        "import numpy as np\n",
        "import matplotlib.pyplot as plt\n",
        "    \n",
        "if sys.version_info >= (3, 0, 0):\n",
        "    import urllib.request as urllib # ugly but works\n",
        "else:\n",
        "    import urllib\n",
        "\n",
        "try:\n",
        "    from imageio import imsave\n",
        "except:\n",
        "    from scipy.misc import imsave\n",
        "\n",
        "print(sys.version_info) \n",
        "\n",
        "# image shape\n",
        "HEIGHT = 96\n",
        "WIDTH = 96\n",
        "DEPTH = 3\n",
        "\n",
        "# size of a single image in bytes\n",
        "SIZE = HEIGHT * WIDTH * DEPTH\n",
        "\n",
        "# path to the directory with the data\n",
        "DATA_DIR = './data'\n",
        "\n",
        "# url of the binary data\n",
        "DATA_URL = 'http://ai.stanford.edu/~acoates/stl10/stl10_binary.tar.gz'\n",
        "\n",
        "# path to the binary train file with image data\n",
        "DATA_PATH = './data/stl10_binary/train_X.bin'\n",
        "\n",
        "# path to the binary train file with labels\n",
        "LABEL_PATH = './data/stl10_binary/train_y.bin'\n",
        "\n",
        "def read_labels(path_to_labels):\n",
        "    \"\"\"\n",
        "    :param path_to_labels: path to the binary file containing labels from the STL-10 dataset\n",
        "    :return: an array containing the labels\n",
        "    \"\"\"\n",
        "    with open(path_to_labels, 'rb') as f:\n",
        "        labels = np.fromfile(f, dtype=np.uint8)\n",
        "        return labels\n",
        "\n",
        "\n",
        "def read_all_images(path_to_data):\n",
        "    \"\"\"\n",
        "    :param path_to_data: the file containing the binary images from the STL-10 dataset\n",
        "    :return: an array containing all the images\n",
        "    \"\"\"\n",
        "\n",
        "    with open(path_to_data, 'rb') as f:\n",
        "        # read whole file in uint8 chunks\n",
        "        everything = np.fromfile(f, dtype=np.uint8)\n",
        "\n",
        "        # We force the data into 3x96x96 chunks, since the\n",
        "        # images are stored in \"column-major order\", meaning\n",
        "        # that \"the first 96*96 values are the red channel,\n",
        "        # the next 96*96 are green, and the last are blue.\"\n",
        "        # The -1 is since the size of the pictures depends\n",
        "        # on the input file, and this way numpy determines\n",
        "        # the size on its own.\n",
        "\n",
        "        images = np.reshape(everything, (-1, 3, 96, 96))\n",
        "\n",
        "        # Now transpose the images into a standard image format\n",
        "        # readable by, for example, matplotlib.imshow\n",
        "        # You might want to comment this line or reverse the shuffle\n",
        "        # if you will use a learning algorithm like CNN, since they like\n",
        "        # their channels separated.\n",
        "        images = np.transpose(images, (0, 3, 2, 1))\n",
        "        return images\n",
        "\n",
        "\n",
        "def read_single_image(image_file):\n",
        "    \"\"\"\n",
        "    CAREFUL! - this method uses a file as input instead of the path - so the\n",
        "    position of the reader will be remembered outside of context of this method.\n",
        "    :param image_file: the open file containing the images\n",
        "    :return: a single image\n",
        "    \"\"\"\n",
        "    # read a single image, count determines the number of uint8's to read\n",
        "    image = np.fromfile(image_file, dtype=np.uint8, count=SIZE)\n",
        "    # force into image matrix\n",
        "    image = np.reshape(image, (3, 96, 96))\n",
        "    # transpose to standard format\n",
        "    # You might want to comment this line or reverse the shuffle\n",
        "    # if you will use a learning algorithm like CNN, since they like\n",
        "    # their channels separated.\n",
        "    image = np.transpose(image, (2, 1, 0))\n",
        "    return image\n",
        "\n",
        "\n",
        "def plot_image(image):\n",
        "    \"\"\"\n",
        "    :param image: the image to be plotted in a 3-D matrix format\n",
        "    :return: None\n",
        "    \"\"\"\n",
        "    plt.imshow(image)\n",
        "    plt.show()\n",
        "\n",
        "def save_image(image, name):\n",
        "    imsave(\"%s.png\" % name, image, format=\"png\")\n",
        "\n",
        "def download_and_extract():\n",
        "    \"\"\"\n",
        "    Download and extract the STL-10 dataset\n",
        "    :return: None\n",
        "    \"\"\"\n",
        "    dest_directory = DATA_DIR\n",
        "    if not os.path.exists(dest_directory):\n",
        "        os.makedirs(dest_directory)\n",
        "    filename = DATA_URL.split('/')[-1]\n",
        "    filepath = os.path.join(dest_directory, filename)\n",
        "    if not os.path.exists(filepath):\n",
        "        def _progress(count, block_size, total_size):\n",
        "            sys.stdout.write('\\rDownloading %s %.2f%%' % (filename,\n",
        "                float(count * block_size) / float(total_size) * 100.0))\n",
        "            sys.stdout.flush()\n",
        "        filepath, _ = urllib.urlretrieve(DATA_URL, filepath, reporthook=_progress)\n",
        "        print('Downloaded', filename)\n",
        "        tarfile.open(filepath, 'r:gz').extractall(dest_directory)\n",
        "\n",
        "def save_images(images, labels):\n",
        "    print(\"Saving images to disk\")\n",
        "    i = 0\n",
        "    for image in images:\n",
        "        label = labels[i]\n",
        "        directory = './img/' + str(label) + '/'\n",
        "        try:\n",
        "            os.makedirs(directory, exist_ok=True)\n",
        "        except OSError as exc:\n",
        "            if exc.errno == errno.EEXIST:\n",
        "                pass\n",
        "        filename = directory + str(i)\n",
        "        print(filename)\n",
        "        save_image(image, filename)\n",
        "        i = i+1\n",
        "    \n",
        "if __name__ == \"__main__\":\n",
        "    # download data if needed\n",
        "    # download_and_extract()\n",
        "\n",
        "    # test to check if the image is read correctly\n",
        "    with open(DATA_PATH) as f:\n",
        "        image = read_single_image(f)\n",
        "        plot_image(image)\n",
        "\n",
        "    # test to check if the whole dataset is read correctly\n",
        "    images = read_all_images(DATA_PATH)\n",
        "    print(images.shape)\n",
        "\n",
        "    labels = read_labels(LABEL_PATH)\n",
        "    print(labels.shape)\n",
        "\n",
        "    # save images to disk"
      ],
      "execution_count": 81,
      "outputs": [
        {
          "output_type": "stream",
          "text": [
            "sys.version_info(major=3, minor=7, micro=11, releaselevel='final', serial=0)\n"
          ],
          "name": "stdout"
        },
        {
          "output_type": "display_data",
          "data": {
            "image/png": "[encoded data removed]",
            "text/plain": [
              "<Figure size 432x288 with 1 Axes>"
            ]
          },
          "metadata": {
            "needs_background": "light"
          }
        },
        {
          "output_type": "stream",
          "text": [
            "(5000, 96, 96, 3)\n",
            "(5000,)\n"
          ],
          "name": "stdout"
        }
      ]
    },
    {
      "cell_type": "markdown",
      "metadata": {
        "id": "KoM7ak1D09CN"
      },
      "source": [
        "Spliting images into train, test, and unlabeled"
      ]
    },
    {
      "cell_type": "code",
      "metadata": {
        "id": "iXFT71qOo7c4",
        "colab": {
          "base_uri": "https://localhost:8080/"
        },
        "outputId": "9c0e7000-9b13-4ed0-fbed-b2d176c51682"
      },
      "source": [
        "# Using indices to split data\n",
        "test_ind = round(len(images)*0.25)\n",
        "train_ind = test_ind + round(len(images)*0.01)\n",
        "unlabeled_ind = train_ind + round(len(images)*0.74)\n",
        "\n",
        "test = images[0:test_ind,:,:,:]\n",
        "train = images[test_ind:train_ind,:,:,:]\n",
        "unlabeled = images[train_ind:unlabeled_ind,:,:,:]\n",
        "train_supervised = images[test_ind:unlabeled_ind,:,:,:]\n",
        "\n",
        "#Using indices to split labels\n",
        "test_labels = labels[0:test_ind]\n",
        "train_labels = labels[test_ind:train_ind]\n",
        "unlabeled_lables = labels[train_ind:unlabeled_ind]\n",
        "train_supervised_lables = labels[test_ind:unlabeled_ind]\n",
        "\n",
        "# One-hot encoding\n",
        "test_labels = to_categorical(test_labels)\n",
        "train_labels = to_categorical(train_labels)\n",
        "unlabeled_lables = to_categorical(unlabeled_lables)\n",
        "train_supervised_lables = to_categorical(train_supervised_lables)\n",
        "\n",
        "print(test_ind)\n",
        "print(train_ind)\n",
        "print(unlabeled_ind)"
      ],
      "execution_count": 108,
      "outputs": [
        {
          "output_type": "stream",
          "text": [
            "1250\n",
            "1300\n",
            "5000\n"
          ],
          "name": "stdout"
        }
      ]
    },
    {
      "cell_type": "code",
      "metadata": {
        "id": "sFxzqfHcw6wW"
      },
      "source": [
        "# Scaling pixels\n",
        "# convert from integers to floats\n",
        "train_norm = train.astype('float32')\n",
        "test_norm = test.astype('float32')\n",
        "unlabeled_norm = unlabeled.astype('float32')\n",
        "train_supervised_norm = train_supervised.astype('float32')\n",
        "# normalize to range 0-1\n",
        "train_norm = train_norm / 255.0\n",
        "test_norm = test_norm / 255.0\n",
        "unlabeled_norm = unlabeled_norm/255.0\n",
        "train_supervised_norm = train_supervised_norm/255.0"
      ],
      "execution_count": 83,
      "outputs": []
    },
    {
      "cell_type": "code",
      "metadata": {
        "id": "KpbuZJCwRKsL"
      },
      "source": [
        "\n",
        "# Defining a Cnn model\n",
        "def define_model():\n",
        "\tmodel = Sequential()\n",
        "\tmodel.add(Conv2D(32, (3, 3), activation='relu', kernel_initializer='he_uniform', padding='same', input_shape=(96,96,3)))\n",
        "\tmodel.add(Conv2D(32, (3, 3), activation='relu', kernel_initializer='he_uniform', padding='same'))\n",
        "\tmodel.add(MaxPooling2D((2, 2)))\n",
        "\tmodel.add(Flatten())\n",
        "\tmodel.add(Dense(128, activation='relu', kernel_initializer='he_uniform'))\n",
        "\tmodel.add(Dense(11, activation='softmax'))\n",
        "  # model.add(Dense(64, input_dim=64, kernel_regularizer=regularizers.l2(0.01)\n",
        "\t# compile model\n",
        "\topt = SGD(lr=0.001, momentum=0.9)\n",
        "\tmodel.compile(optimizer=opt, loss='categorical_crossentropy', metrics=['accuracy'])\n",
        "\treturn model\n"
      ],
      "execution_count": 129,
      "outputs": []
    },
    {
      "cell_type": "markdown",
      "metadata": {
        "id": "jmeawZl9HZAq"
      },
      "source": [
        ""
      ]
    },
    {
      "cell_type": "markdown",
      "metadata": {
        "id": "YFq2iQymNf-y"
      },
      "source": [
        "Plotting graphs"
      ]
    },
    {
      "cell_type": "code",
      "metadata": {
        "id": "LNXV2omO2DN1"
      },
      "source": [
        "# plot diagnostic learning curves\n",
        "def summarize_diagnostics(history):\n",
        "\t# plot loss\n",
        "\tpyplot.subplot(211)\n",
        "\tpyplot.title('Cross Entropy Loss')\n",
        "\tpyplot.plot(history.history['loss'], color='blue', label='train')\n",
        "\tpyplot.plot(history.history['val_loss'], color='orange', label='test')\n",
        "\t# plot accuracy\n",
        "\tpyplot.subplot(212)\n",
        "\tpyplot.title('Classification Accuracy')\n",
        "\tpyplot.plot(history.history['accuracy'], color='blue', label='train')\n",
        "\tpyplot.plot(history.history['val_accuracy'], color='orange', label='test')\n",
        "\t# save plot to file\n",
        "\tfilename = sys.argv[0].split('/')[-1]\n",
        "\tpyplot.savefig(filename + '_plot.png')\n",
        "\tpyplot.close()"
      ],
      "execution_count": 85,
      "outputs": []
    },
    {
      "cell_type": "code",
      "metadata": {
        "id": "GCVHHisSyB5t",
        "colab": {
          "base_uri": "https://localhost:8080/"
        },
        "outputId": "65935e2b-e6f0-49cc-9129-dde5dc0a9f2d"
      },
      "source": [
        "print(test.shape)\n",
        "print(len(test_labels))\n",
        "print(len(train_labels))\n",
        "print(len(unlabeled_lables))"
      ],
      "execution_count": 116,
      "outputs": [
        {
          "output_type": "stream",
          "text": [
            "(1250, 96, 96, 3)\n",
            "1250\n",
            "50\n",
            "3700\n"
          ],
          "name": "stdout"
        }
      ]
    },
    {
      "cell_type": "markdown",
      "metadata": {
        "id": "hECtCX_KNxpX"
      },
      "source": [
        "Running a supervised model"
      ]
    },
    {
      "cell_type": "code",
      "metadata": {
        "id": "ZdRtpe1-NqWh",
        "colab": {
          "base_uri": "https://localhost:8080/"
        },
        "outputId": "6d249490-486e-4fc8-d33c-34183b55e399"
      },
      "source": [
        "supervised_model = define_model()\n",
        "history_supervised_model = supervised_model.fit(train_supervised_norm, train_supervised_lables, epochs=200, batch_size=100, validation_data=(test_norm, test_labels), verbose=0)"
      ],
      "execution_count": 88,
      "outputs": [
        {
          "output_type": "stream",
          "text": [
            "/usr/local/lib/python3.7/dist-packages/keras/optimizer_v2/optimizer_v2.py:356: UserWarning: The `lr` argument is deprecated, use `learning_rate` instead.\n",
            "  \"The `lr` argument is deprecated, use `learning_rate` instead.\")\n"
          ],
          "name": "stderr"
        }
      ]
    },
    {
      "cell_type": "code",
      "metadata": {
        "id": "Xk4WUfG95NpH",
        "colab": {
          "base_uri": "https://localhost:8080/"
        },
        "outputId": "cf21e8d3-0ece-4289-fdc0-b60a427a7bcf"
      },
      "source": [
        "# evaluate model\n",
        "ab, acc = supervised_model.evaluate(test, test_labels, verbose=0)\n",
        "print('> %.3f' % (acc * 100.0))\n",
        "# learning curves\n",
        "summarize_diagnostics(history_supervised_model)"
      ],
      "execution_count": 89,
      "outputs": [
        {
          "output_type": "stream",
          "text": [
            "> 44.880\n"
          ],
          "name": "stdout"
        }
      ]
    },
    {
      "cell_type": "markdown",
      "metadata": {
        "id": "7W9HAgko1ewU"
      },
      "source": [
        "Semi-supervised learning code"
      ]
    },
    {
      "cell_type": "code",
      "metadata": {
        "colab": {
          "base_uri": "https://localhost:8080/"
        },
        "id": "A3cxua2zk8A6",
        "outputId": "6944d3e9-559e-438f-994f-8395448e3064"
      },
      "source": [
        "semi_supervised_model_prev = define_model()\n",
        "history_semi_supervised_model_prev = semi_supervised_model_prev.fit(train_norm, train_labels, epochs=100, batch_size=100, validation_data=(test_norm, test_labels), verbose=0)"
      ],
      "execution_count": 91,
      "outputs": [
        {
          "output_type": "stream",
          "text": [
            "/usr/local/lib/python3.7/dist-packages/keras/optimizer_v2/optimizer_v2.py:356: UserWarning: The `lr` argument is deprecated, use `learning_rate` instead.\n",
            "  \"The `lr` argument is deprecated, use `learning_rate` instead.\")\n"
          ],
          "name": "stderr"
        }
      ]
    },
    {
      "cell_type": "code",
      "metadata": {
        "colab": {
          "base_uri": "https://localhost:8080/"
        },
        "id": "7o5AhPQDzvAN",
        "outputId": "f106e8df-48e4-487c-876d-52b5f3097899"
      },
      "source": [
        "# evaluate model\n",
        "ab, acc = semi_supervised_model.evaluate(test, test_labels, verbose=0)\n",
        "print('> %.3f' % (acc * 100.0))\n",
        "# learning curves\n",
        "summarize_diagnostics(history_supervised_model)"
      ],
      "execution_count": 92,
      "outputs": [
        {
          "output_type": "stream",
          "text": [
            "> 18.400\n"
          ],
          "name": "stdout"
        }
      ]
    },
    {
      "cell_type": "code",
      "metadata": {
        "id": "1J-me48_UEOa",
        "colab": {
          "base_uri": "https://localhost:8080/"
        },
        "outputId": "6d53f3fa-2b1c-4476-c44d-bd767ca7a05f"
      },
      "source": [
        "pred_sup = semi_supervised_model.predict(train_norm)\n",
        "pred_test = semi_supervised_model.predict(test_norm)\n",
        "pred_unlabeled = semi_supervised_model.predict(unlabeled_norm)\n",
        "\n",
        "# print(pred_sup)\n",
        "# print(pred_test)\n",
        "\n",
        "# Training labels for semi-supervised learning\n",
        "train_semisupervised_labels = labels[test_ind:unlabeled_ind]\n",
        "train_semisupervised_labels = to_categorical(train_semisupervised_labels)\n",
        "train_semisupervised_labels[50:unlabeled_ind] = pred_unlabeled\n",
        "\n",
        "print(train_semisupervised_labels.shape)\n",
        "print(pred_unlabeled.shape)\n",
        "print(train_semisupervised_labels[50:unlabeled_ind].shape)"
      ],
      "execution_count": 121,
      "outputs": [
        {
          "output_type": "stream",
          "text": [
            "(3750, 11)\n",
            "(3700, 11)\n",
            "(3700, 11)\n"
          ],
          "name": "stdout"
        }
      ]
    },
    {
      "cell_type": "code",
      "metadata": {
        "colab": {
          "base_uri": "https://localhost:8080/"
        },
        "id": "PkNPRmS23yFD",
        "outputId": "cf15940a-0b0b-4236-91a0-26bf3509b762"
      },
      "source": [
        "semi_supervised_model_post = define_model()\n",
        "history_semi_supervised_model_post = semi_supervised_model_post.fit(train_supervised_norm, train_semisupervised_labels, epochs=200, batch_size=100, validation_data=(test_norm, test_labels), verbose=0)"
      ],
      "execution_count": 124,
      "outputs": [
        {
          "output_type": "stream",
          "text": [
            "/usr/local/lib/python3.7/dist-packages/keras/optimizer_v2/optimizer_v2.py:356: UserWarning: The `lr` argument is deprecated, use `learning_rate` instead.\n",
            "  \"The `lr` argument is deprecated, use `learning_rate` instead.\")\n"
          ],
          "name": "stderr"
        }
      ]
    },
    {
      "cell_type": "code",
      "metadata": {
        "colab": {
          "base_uri": "https://localhost:8080/"
        },
        "id": "Mq5R5ruY92kT",
        "outputId": "c234184e-3224-45c2-b809-a2268ed37141"
      },
      "source": [
        "# evaluate model\n",
        "ab, acc = semi_supervised_model_post.evaluate(test, test_labels, verbose=0)\n",
        "print('> %.3f' % (acc * 100.0))\n",
        "# learning curves\n",
        "summarize_diagnostics(history_semi_supervised_model_post)"
      ],
      "execution_count": 123,
      "outputs": [
        {
          "output_type": "stream",
          "text": [
            "> 18.800\n"
          ],
          "name": "stdout"
        }
      ]
    },
    {
      "cell_type": "markdown",
      "metadata": {
        "id": "ZpSTouBB_f1Y"
      },
      "source": [
        "Unsupervised learning:"
      ]
    },
    {
      "cell_type": "code",
      "metadata": {
        "colab": {
          "base_uri": "https://localhost:8080/"
        },
        "id": "yFp-AdGhfCjs",
        "outputId": "1d16070d-0389-4caf-b0d2-8cefc1247ab4"
      },
      "source": [
        "!git clone https://github.com/deu30303/RUC"
      ],
      "execution_count": 128,
      "outputs": [
        {
          "output_type": "stream",
          "text": [
            "Cloning into 'RUC'...\n",
            "remote: Enumerating objects: 51, done.\u001b[K\n",
            "remote: Counting objects: 100% (51/51), done.\u001b[K\n",
            "remote: Compressing objects: 100% (46/46), done.\u001b[K\n",
            "remote: Total 51 (delta 19), reused 23 (delta 3), pack-reused 0\u001b[K\n",
            "Unpacking objects: 100% (51/51), done.\n"
          ],
          "name": "stdout"
        }
      ]
    },
    {
      "cell_type": "code",
      "metadata": {
        "id": "k7pApOj__jdC"
      },
      "source": [
        ""
      ],
      "execution_count": null,
      "outputs": []
    },
    {
      "cell_type": "markdown",
      "metadata": {
        "id": "7Umofyo6Imai"
      },
      "source": [
        "**Overall results:**\n",
        "\n",
        "1.   *Supervised:* 45% accuracy\n",
        "2.   *Semisupervised:* 18.8% accuracy"
      ]
    },
    {
      "cell_type": "markdown",
      "metadata": {
        "id": "LfP_vCtB6wHI"
      },
      "source": [
        "References other than that given in the question (i.e. used code from:)\n"
      ]
    },
    {
      "cell_type": "code",
      "metadata": {
        "id": "KAcoWW4b60T7"
      },
      "source": [
        "# 1) https://machinelearningmastery.com/how-to-develop-a-cnn-from-scratch-for-cifar-10-photo-classification/"
      ],
      "execution_count": null,
      "outputs": []
    }
  ]
}